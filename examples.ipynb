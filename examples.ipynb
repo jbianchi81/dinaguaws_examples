{
 "cells": [
  {
   "cell_type": "code",
   "execution_count": null,
   "id": "35c3360a",
   "metadata": {},
   "outputs": [],
   "source": [
    "import requests\n",
    "import json\n",
    "import pandas as pd\n",
    "import os\n",
    "from datetime import datetime, timedelta\n",
    "import xml.etree.ElementTree as ET"
   ]
  },
  {
   "cell_type": "code",
   "execution_count": null,
   "id": "9abb9881",
   "metadata": {},
   "outputs": [],
   "source": [
    "# This code line allows to remove warning produce by verify = False\n",
    "from requests.packages.urllib3.exceptions import InsecureRequestWarning\n",
    "requests.packages.urllib3.disable_warnings(InsecureRequestWarning)"
   ]
  },
  {
   "cell_type": "code",
   "execution_count": null,
   "id": "79a77e58",
   "metadata": {},
   "outputs": [],
   "source": [
    "# Define the export function\n",
    "def generatecsvFiles(export_df,variable):\n",
    "    for estaciones_id in export_df['id_estacion'].unique():\n",
    "        data = export_df.query(\"id_estacion == @estaciones_id\")\n",
    "        data[['id_estacion','fecha','indice_calidad','indice_revision','tipo_calculo','valor']].to_csv(f'output/{estaciones_id}_{variable}.csv',float_format='%.3f',index=False)"
   ]
  },
  {
   "cell_type": "code",
   "execution_count": null,
   "id": "625a69d3",
   "metadata": {},
   "outputs": [],
   "source": [
    "archivo = 'run_info.xml'\n",
    "if os.path.exists(archivo):\n",
    "    with open(archivo) as f:\n",
    "        root = ET.parse(f)\n",
    "        for child in root.iter('*'):\n",
    "            if child.tag == '{http://www.wldelft.nl/fews/PI}startDateTime':\n",
    "                fecha = child.attrib['date'] + ' ' + child.attrib['time']\n",
    "                break\n",
    "        fin = datetime.strptime(fecha, '%Y-%m-%d %H:%M:%S')\n",
    "        inicio = fin - timedelta(days = 3)\n",
    "else:\n",
    "    # Aquí se pueden ingresar un período de fechas para la consulta de niveles\n",
    "    # Si se deja vacío, la consulta será a las últimas 24 horas\n",
    "    ###################################\n",
    "    # PERÍODO (máximo 15 días) #\n",
    "    # Formato yyyy-mm-dd hh:mm #\n",
    "    ###################################\n",
    "    # inicio = '2025-01-01 00:00:00' #\n",
    "    # fin = '2025-07-23 00:00:00' #\n",
    "    inicio = ''\n",
    "    fin = ''\n",
    "    ###################################\n",
    "    # Si inicio o fin se dejaron vacías, se haya la fecha actual (fin) y un día antes (inicio)\n",
    "    if fin == '':\n",
    "        fin = datetime.today().replace(second=0, microsecond=0)\n",
    "    else:\n",
    "        fin = datetime.strptime(fin, '%Y-%m-%d %H:%M:%S')\n",
    "    if inicio == '':\n",
    "        inicio = fin - timedelta(days=3)\n",
    "    else:\n",
    "        inicio = datetime.strptime(inicio, '%Y-%m-%d %H:%M:%S')\n",
    "    if inicio > fin:\n",
    "        raise ValueError(\"La fecha inicio debe ser inferior a la fecha final\")\n",
    "\n",
    "\n",
    "print(inicio, fin)"
   ]
  },
  {
   "cell_type": "code",
   "execution_count": null,
   "id": "bd154e55",
   "metadata": {},
   "outputs": [],
   "source": [
    "# read api url and credentials from .env\n",
    "from dotenv import load_dotenv\n",
    "\n",
    "load_dotenv()"
   ]
  },
  {
   "cell_type": "code",
   "execution_count": null,
   "id": "6bcc576e",
   "metadata": {},
   "outputs": [],
   "source": [
    "# Dinagua Web Service\n",
    "url_base = os.environ[\"url\"] # 'https://www.ambiente.gub.uy/dinaguaws/'"
   ]
  },
  {
   "cell_type": "code",
   "execution_count": null,
   "id": "ae1bd38e",
   "metadata": {},
   "outputs": [],
   "source": [
    "# Username and password\n",
    "user_dinagua = {\"user\": os.environ[\"user\"], \"password\": os.environ[\"password\"]}"
   ]
  },
  {
   "cell_type": "code",
   "execution_count": null,
   "id": "1281c457",
   "metadata": {},
   "outputs": [],
   "source": [
    "# Get the token from DINAGUA WS\n",
    "response_token = requests.post(url=url_base + \"gettoken\", json=user_dinagua,verify=False);\n",
    "response_token.close()\n",
    "# Extract token and assign it to a variable\n",
    "token = response_token.text\n",
    "# Add the token to a bearer authorization\n",
    "headers = {\"Authorization\" : \"Bearer \" + token}"
   ]
  },
  {
   "cell_type": "markdown",
   "id": "1c0725f2",
   "metadata": {},
   "source": [
    "get dinagua stations"
   ]
  },
  {
   "cell_type": "code",
   "execution_count": null,
   "id": "5ffea591",
   "metadata": {},
   "outputs": [],
   "source": [
    "# Get Dinagua stations\n",
    "response_estaciones = requests.get(url=url_base + \"service/estaciones\",json=user_dinagua, headers = headers, verify=False)\n",
    "response_estaciones.close()"
   ]
  },
  {
   "cell_type": "code",
   "execution_count": null,
   "id": "3a867bc6",
   "metadata": {},
   "outputs": [],
   "source": [
    "# Convert it to json and dataframe variables\n",
    "estaciones_dinagua = json.loads(response_estaciones.content.decode('utf-8'))\n",
    "estaciones_dinagua = pd.DataFrame(estaciones_dinagua)"
   ]
  },
  {
   "cell_type": "code",
   "execution_count": null,
   "id": "3568976b",
   "metadata": {},
   "outputs": [],
   "source": [
    "# export csv\n",
    "estaciones_dinagua.to_csv(\"output/estaciones.csv\", index=False)"
   ]
  },
  {
   "cell_type": "code",
   "execution_count": null,
   "id": "39198c22",
   "metadata": {},
   "outputs": [],
   "source": [
    "# Filter station by Activa\n",
    "estaciones_activa = estaciones_dinagua.query(\"estado == 'Activa'\")\n",
    "# Get id stations\n",
    "id_estaciones_activa = estaciones_activa[\"id_estacion\"]\n",
    "# Get name of the station\n",
    "nombre_estaciones_activa = estaciones_activa[\"apodo\"]"
   ]
  },
  {
   "cell_type": "code",
   "execution_count": null,
   "id": "e9885f50",
   "metadata": {},
   "outputs": [],
   "source": [
    "display(estaciones_dinagua.query(\"id_estacion == 51\"))"
   ]
  },
  {
   "cell_type": "code",
   "execution_count": null,
   "id": "4103fbb3",
   "metadata": {},
   "outputs": [],
   "source": [
    "id_estaciones_activa.to_clipboard()"
   ]
  },
  {
   "cell_type": "code",
   "execution_count": null,
   "id": "dc0a0bd8",
   "metadata": {},
   "outputs": [],
   "source": [
    "# Define the parameters for the get niveles end-point\n",
    "headers_niveles = {\"inicio\" : inicio.strftime('%Y-%m-%d %H:%M'), \"fin\" : fin.strftime('%Y-%m-%d %H:%M'), \"variable\" : \"H\"}\n",
    "headers_caudales = {\"inicio\" : inicio.strftime('%Y-%m-%d %H:%M'), \"fin\" : fin.strftime('%Y-%m-%d %H:%M'), \"variable\" : \"Q\"}\n",
    "headers_temperatura = {\"inicio\" : inicio.strftime('%Y-%m-%d %H:%M'), \"fin\": fin.strftime('%Y-%m-%d %H:%M'), \"variable\" : \"T\"}"
   ]
  },
  {
   "cell_type": "code",
   "execution_count": null,
   "id": "116f7b35",
   "metadata": {},
   "outputs": [],
   "source": [
    "# Get niveles from Dinagua WS\n",
    "response_niveles = requests.get(url= url_base + \"service/datos/horarios\", params=headers_niveles, json=user_dinagua, headers = headers, verify=False)\n",
    "# Close the connection\n",
    "response_niveles.close()\n",
    "# Convert it to json and dataframe\n",
    "response_niveles = json.loads(response_niveles.content.decode('utf-8'))\n",
    "response_niveles = pd.DataFrame(response_niveles)"
   ]
  },
  {
   "cell_type": "code",
   "execution_count": null,
   "id": "36a3ee94",
   "metadata": {},
   "outputs": [],
   "source": [
    "response_niveles.query(\"id_estacion == 1330\")"
   ]
  },
  {
   "cell_type": "code",
   "execution_count": null,
   "id": "5723768a",
   "metadata": {},
   "outputs": [],
   "source": [
    "# Get Caudales from Dinagua WS\n",
    "response_caudales = requests.get(url= url_base + \"service/datos/horarios\", params=headers_caudales, json=user_dinagua, headers = headers, verify=False)\n",
    "# Close the connection\n",
    "response_caudales.close()\n",
    "# Convert it to json and dataframe\n",
    "response_caudales = json.loads(response_caudales.content.decode('utf-8'))\n",
    "response_caudales = pd.DataFrame(response_caudales)"
   ]
  },
  {
   "cell_type": "code",
   "execution_count": null,
   "id": "b56250af",
   "metadata": {},
   "outputs": [],
   "source": [
    "# Get Temperatura from Dinagua WS\n",
    "response_temperature = requests.get(url= url_base + \"service/datos/horarios\", params=headers_temperatura, json=user_dinagua, headers = headers, verify=False)\n",
    "# Close the connection\n",
    "response_temperature.close()\n",
    "# Convert it to json and dataframe\n",
    "response_temperature = json.loads(response_temperature.content.decode('utf-8'))\n",
    "response_temperature = pd.DataFrame(response_temperature)"
   ]
  },
  {
   "cell_type": "code",
   "execution_count": null,
   "id": "f31eb12f",
   "metadata": {},
   "outputs": [],
   "source": [
    "display(response_temperature)"
   ]
  },
  {
   "cell_type": "code",
   "execution_count": null,
   "id": "89064cc4",
   "metadata": {},
   "outputs": [],
   "source": [
    "# Get Daily Discharge\n",
    "headers_diarios = {\n",
    "    \"inicio\" : inicio.strftime('%Y-%m-%d %H:%M'), \n",
    "    \"fin\" : fin.strftime('%Y-%m-%d %H:%M'), \n",
    "    \"variable\" : \"Q\",\n",
    "    \"tipo_calculo\":\"Promedio\",\n",
    "    \"id_estacion\": 1330\n",
    "}\n",
    "response_daily = requests.get(\n",
    "    url= url_base + \"service/datos/diarios\", \n",
    "    params=headers_diarios, \n",
    "    json=user_dinagua, \n",
    "    headers = headers, \n",
    "    verify=False)\n",
    "# Close the connection\n",
    "response_daily.close()\n",
    "# Convert it to json and dataframe\n",
    "response_daily = json.loads(response_daily.content.decode('utf-8'))\n",
    "response_daily = pd.DataFrame(response_daily)"
   ]
  },
  {
   "cell_type": "code",
   "execution_count": null,
   "id": "d84f493b",
   "metadata": {},
   "outputs": [],
   "source": [
    "response_daily"
   ]
  },
  {
   "cell_type": "code",
   "execution_count": null,
   "id": "87cda7a0",
   "metadata": {},
   "outputs": [],
   "source": [
    "response_niveles[['id_estacion','fecha','indice_calidad','indice_revision','tipo_calculo','valor']].to_csv(f'output/niveles.csv',float_format='%.3f',index=False)\n",
    "response_caudales[['id_estacion','fecha','indice_calidad','indice_revision','tipo_calculo','valor']].to_csv(f'output/caudales.csv',float_format='%.3f',index=False)\n",
    "response_temperature[['id_estacion','fecha','indice_calidad','indice_revision','tipo_calculo','valor']].to_csv(f'output/temperatura.csv',float_format='%.3f',index=False)"
   ]
  },
  {
   "cell_type": "markdown",
   "id": "5bca85b2",
   "metadata": {},
   "source": [
    "## Hydrosos categorized status product"
   ]
  },
  {
   "cell_type": "code",
   "execution_count": null,
   "id": "92717c86",
   "metadata": {},
   "outputs": [],
   "source": [
    "\n",
    "user_hydrosos = {\"user\": os.environ[\"user_hydrosos\"], \"password\": os.environ[\"password_hydrosos\"]}\n",
    "# Get the token from DINAGUA WS\n",
    "response_token = requests.post(url=url_base + \"gettoken\", json=user_hydrosos,verify=False)\n",
    "response_token.close()\n",
    "# Extract token and assign it to a variable\n",
    "token = response_token.text\n",
    "# Add the token to a bearer authorization\n",
    "headers_hydrosos = {\"Authorization\" : \"Bearer \" + token}"
   ]
  },
  {
   "cell_type": "code",
   "execution_count": null,
   "id": "bd0c8e4b",
   "metadata": {},
   "outputs": [],
   "source": [
    "# get status product\n",
    "response_datoscat = requests.get(\n",
    "    url= url_base + \"estadohidro/datoscat\", \n",
    "    params={\n",
    "        \"serietemporal\": \"Estaciones\", \n",
    "        \"fecha\": \"2025-06\",\n",
    "        \"temporalidad\": \"1\"}, \n",
    "    json=user_hydrosos, \n",
    "    headers = headers_hydrosos, \n",
    "    verify=False\n",
    ")\n",
    "# Close the connection\n",
    "response_datoscat.close()\n",
    "# Convert it to json and dataframe\n",
    "datoscat = json.loads(response_datoscat.content.decode('utf-8'))\n",
    "df_datoscat = pd.DataFrame(datoscat)"
   ]
  },
  {
   "cell_type": "code",
   "execution_count": null,
   "id": "6529d3e2",
   "metadata": {},
   "outputs": [],
   "source": [
    "df_datoscat"
   ]
  },
  {
   "cell_type": "code",
   "execution_count": null,
   "id": "fe7184a2",
   "metadata": {},
   "outputs": [],
   "source": [
    "from dateutil.relativedelta import relativedelta\n",
    "# retrieve recursively for a time period\n",
    "start_date = datetime(2023, 8, 1)\n",
    "end_date = datetime(2025, 7, 1)\n",
    "current_date = start_date\n",
    "results = []\n",
    "while current_date < end_date:\n",
    "    fecha = \"%04d-%02d\" % (current_date.year, current_date.month)\n",
    "    # print(fecha)\n",
    "    response = requests.get(\n",
    "        url= url_base + \"estadohidro/datoscat\", \n",
    "        params={\n",
    "            \"serietemporal\": \"Estaciones\", \n",
    "            \"fecha\": fecha,\n",
    "            \"temporalidad\": \"1\"}, \n",
    "        json=user_hydrosos, \n",
    "        headers = headers, \n",
    "        verify=False\n",
    "    )\n",
    "    # Close the connection\n",
    "    response.close()\n",
    "    # print(response)\n",
    "    # print(response.text)\n",
    "    if response.status_code != 200:\n",
    "        current_date = current_date + relativedelta(months=1)\n",
    "        continue\n",
    "    # Convert it to json and dataframe\n",
    "    datoscat = json.loads(response.content.decode('utf-8'))\n",
    "    df_datoscat = pd.DataFrame(datoscat)\n",
    "    df_datoscat[\"fecha\"] = current_date\n",
    "    results.append(df_datoscat)\n",
    "    current_date = current_date + relativedelta(months=1)\n",
    "df_datoscat_timeseries = pd.concat(results)"
   ]
  },
  {
   "cell_type": "code",
   "execution_count": null,
   "id": "554c5505",
   "metadata": {},
   "outputs": [],
   "source": [
    "df_datoscat_timeseries.query(\"stationID == '1330'\")"
   ]
  }
 ],
 "metadata": {
  "kernelspec": {
   "display_name": ".venv",
   "language": "python",
   "name": "python3"
  },
  "language_info": {
   "codemirror_mode": {
    "name": "ipython",
    "version": 3
   },
   "file_extension": ".py",
   "mimetype": "text/x-python",
   "name": "python",
   "nbconvert_exporter": "python",
   "pygments_lexer": "ipython3",
   "version": "3.12.3"
  }
 },
 "nbformat": 4,
 "nbformat_minor": 5
}
